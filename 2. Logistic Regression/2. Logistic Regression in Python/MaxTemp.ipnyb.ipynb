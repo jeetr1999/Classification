{
 "cells": [
  {
   "cell_type": "markdown",
   "id": "aa2a96b9",
   "metadata": {},
   "source": [
    "### Convert .ipnyb file to .py"
   ]
  },
  {
   "cell_type": "code",
   "execution_count": null,
   "id": "531667f0",
   "metadata": {},
   "outputs": [],
   "source": [
    "from mrjob.job import MRJob\n",
    "import re\n",
    "\n",
    "class MRMaxTemp (MRJob):\n",
    "\n",
    "    def mapper(self, _, line):\n",
    "        val = line.strip()\n",
    "        (year, temp, q) = (val[15:19], val[87:92], val[92:93])\n",
    "        if (temp != \"+9999\" and re.match(\"[01459]\", q)):\n",
    "            yield (year, temp)\n",
    "\n",
    "    def reducer(self, year, temp):\n",
    "        #max_temp = next(temp)\n",
    "        max_temp = -10000\n",
    "        for item in temp:\n",
    "            max_temp = max(int(item), max_temp)\n",
    "        yield (year, max_temp)\n",
    "\n",
    "if __name__ == '__main__':\n",
    "    MRMaxTemp.run()"
   ]
  }
 ],
 "metadata": {
  "kernelspec": {
   "display_name": "Python 3 (ipykernel)",
   "language": "python",
   "name": "python3"
  },
  "language_info": {
   "codemirror_mode": {
    "name": "ipython",
    "version": 3
   },
   "file_extension": ".py",
   "mimetype": "text/x-python",
   "name": "python",
   "nbconvert_exporter": "python",
   "pygments_lexer": "ipython3",
   "version": "3.9.12"
  }
 },
 "nbformat": 4,
 "nbformat_minor": 5
}
